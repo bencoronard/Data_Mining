{
  "nbformat": 4,
  "nbformat_minor": 0,
  "metadata": {
    "colab": {
      "provenance": []
    },
    "kernelspec": {
      "name": "python3",
      "display_name": "Python 3"
    },
    "language_info": {
      "name": "python"
    }
  },
  "cells": [
    {
      "cell_type": "markdown",
      "source": [
        "# Mount Google Drive"
      ],
      "metadata": {
        "id": "_Ggz_XQWLsqp"
      }
    },
    {
      "cell_type": "code",
      "source": [
        "from google.colab import drive\n",
        "drive.mount('/content/drive')"
      ],
      "metadata": {
        "id": "-mumWVLPitNK"
      },
      "execution_count": null,
      "outputs": []
    },
    {
      "cell_type": "code",
      "source": [
        "csv_file = '/content/drive/MyDrive/LI_skills.csv'\n",
        "skills = []\n",
        "with open(csv_file, 'r') as file:\n",
        "    for line in file:\n",
        "        skills.append(line.strip().lower())"
      ],
      "metadata": {
        "id": "8cqoBCLurmNN"
      },
      "execution_count": null,
      "outputs": []
    },
    {
      "cell_type": "markdown",
      "source": [
        "# Data Processing"
      ],
      "metadata": {
        "id": "Ie9ppp0RMki5"
      }
    },
    {
      "cell_type": "code",
      "source": [
        "print(len(skills))\n",
        "print(skills[0:5])\n",
        "print(skills[-5:])"
      ],
      "metadata": {
        "id": "XfYRsTaNri2G"
      },
      "execution_count": null,
      "outputs": []
    },
    {
      "cell_type": "code",
      "source": [
        "skill_count = {}\n",
        "for skill in skills:\n",
        "  if skill in skill_count:\n",
        "    skill_count[skill] += 1\n",
        "  else:\n",
        "    skill_count[skill] = 1\n",
        "\n",
        "skill_count = sorted(skill_count.items(), key=lambda item: item[1], reverse=True)\n",
        "print(len(skill_count))"
      ],
      "metadata": {
        "id": "YiYiBPUZ4ai8"
      },
      "execution_count": null,
      "outputs": []
    },
    {
      "cell_type": "markdown",
      "source": [
        "# Display Results"
      ],
      "metadata": {
        "id": "ZqynxNnE8nwe"
      }
    },
    {
      "cell_type": "code",
      "source": [
        "n = 55\n",
        "\n",
        "file_path = '/content/drive/MyDrive/topLIskills.txt'\n",
        "with open(file_path, 'w') as file:\n",
        "    for item in skill_count[:n]:\n",
        "        file.write(str(item) + '\\n')\n",
        "\n",
        "print(f'The output has been saved to {file_path}')"
      ],
      "metadata": {
        "id": "HTJLhwRIAjS4"
      },
      "execution_count": null,
      "outputs": []
    }
  ]
}